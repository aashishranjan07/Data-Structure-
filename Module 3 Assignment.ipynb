{
 "cells": [
  {
   "cell_type": "raw",
   "id": "1d8c3b8c-9637-4eff-a23c-a6894c7cb8d8",
   "metadata": {},
   "source": [
    "Ques 1:- Discuss string slicing and provide examples."
   ]
  },
  {
   "cell_type": "raw",
   "id": "e1a6504b-8b78-473b-a779-764e432e56fc",
   "metadata": {},
   "source": [
    "Answer: String slicing is a fundamental operation in python that alllows you to extract a portion of string, creating a new string from the selected\n",
    "part. In essence , its a way to access specific characters or substrings within a larger string. This process is often referred to as slicing because\n",
    "you are essentially cutting a peice of th string to work with."
   ]
  },
  {
   "cell_type": "raw",
   "id": "1a4c09e4-0363-4098-bd02-7f207aaa296e",
   "metadata": {},
   "source": [
    "> How string slicing works in python"
   ]
  },
  {
   "cell_type": "code",
   "execution_count": null,
   "id": "27ebb5a9-f56e-447a-8d85-435243676f83",
   "metadata": {},
   "outputs": [],
   "source": [
    " Examples:- string = \"Hello, World!\"\n",
    "\n",
    "# Extract characters from index 0 (inclusive) to 5 (exclusive)\n",
    "substring = string[0:5]\n",
    "print(substring)  # Output: Hello\n",
    "\n",
    "# Extract characters from index 7 (inclusive) to the end\n",
    "substring = string[7:]\n",
    "print(substring)  # Output: World!\n",
    "\n",
    "# Extract characters from the beginning to index 5 (exclusive)\n",
    "substring = string[:5]\n",
    "print(substring)  # Output: Hello"
   ]
  },
  {
   "cell_type": "raw",
   "id": "1e6bc4ab-1f0c-4a3b-b6a2-28eccb15f4f6",
   "metadata": {},
   "source": [
    "Ques 2:- Explain the key features of list in Python."
   ]
  },
  {
   "cell_type": "raw",
   "id": "69e68e32-339d-4292-8934-9ea4466b0593",
   "metadata": {},
   "source": [
    "Answer:- List are mutbale, versatile and widely used data structire that allow you to store a collection of items. Their items can be added,\n",
    "remove or change after the list will define. List are ordered so newly added items will be placed at the end of the list. List use zero-based indexing"
   ]
  },
  {
   "cell_type": "code",
   "execution_count": null,
   "id": "ca35f46e-25f1-42ff-8848-11334db2a223",
   "metadata": {},
   "outputs": [],
   "source": [
    "Mutbale:- You can modify list after creation. Elements can added, remove or changfed\n",
    "example:- my_list = [1, 2, 3]\n",
    "\n",
    "my_list[2] = 98\n",
    "my_list\n",
    "[1, 2, 98]"
   ]
  },
  {
   "cell_type": "raw",
   "id": "70ffd3c4-da62-4b4e-95b6-27c66dbb2981",
   "metadata": {},
   "source": [
    "Indexed:- Elements in a list can be accessed using their index, starting from 0\n",
    "example:-"
   ]
  },
  {
   "cell_type": "code",
   "execution_count": null,
   "id": "2e72dbba-00b0-4b01-a1b4-a7bf637cb457",
   "metadata": {},
   "outputs": [],
   "source": [
    "Allows Duplicate Elements:- Lists can contain duplicate items\n",
    "\n",
    "my_list = [10, 20, 30, 30, 40]\n",
    "my_list\n",
    "# it is a valid list with duplicates\n",
    "     \n",
    "[10, 20, 30, 30, 40]"
   ]
  },
  {
   "cell_type": "code",
   "execution_count": null,
   "id": "356eabcd-2eca-4faa-849b-a09e53b3c004",
   "metadata": {},
   "outputs": [],
   "source": [
    "Heterogeneous Element:- List can store elementd of different data type\n",
    "example:-\n",
    "\n",
    "\n",
    "my_list = [1, 2, \"pwskills\", 3+8j, True]\n",
    "my_list\n",
    "     \n",
    "[1, 2, 'pwskills', (3+8j), True]"
   ]
  },
  {
   "cell_type": "code",
   "execution_count": null,
   "id": "907f1cc8-7fd4-425f-8043-80eefe6ef004",
   "metadata": {},
   "outputs": [],
   "source": [
    "example \n",
    "my_list = [10, \"hello\", 3.14, [1, 2, 3]]\n",
    "\n",
    "# Accessing elements\n",
    "print(my_list[0]) \n",
    "# Output: 10\n",
    "print(my_list[2]) \n",
    "# Output: 3.14\n",
    "\n",
    "# Modifying elements\n",
    "my_list[1] = \"world\"\n",
    "print(my_list) \n",
    "# Output: [10, 'world', 3.14, [1, 2, 3]]\n",
    "\n",
    "# Adding elements\n",
    "my_list.append(5)\n",
    "print(my_list) \n",
    "# Output: [10, 'world', 3.14, [1, 2, 3], 5]\n",
    "\n",
    "# Removing elements\n",
    "my_list.remove(\"world\")\n",
    "print(my_list) \n",
    "# Output: [10, 3.14, [1, 2, 3], 5]"
   ]
  },
  {
   "cell_type": "raw",
   "id": "21362ba9-0811-475b-b6a6-39b38f4f3653",
   "metadata": {},
   "source": [
    "Ques 3:- Describe how to acsess,modify,and delete elements in a list with examples. "
   ]
  },
  {
   "cell_type": "raw",
   "id": "c29bb3a1-756d-491e-b690-af3f375bedc4",
   "metadata": {},
   "source": [
    "Answers:-  Accessing, Modifying, and Deleting Elements in a List"
   ]
  },
  {
   "cell_type": "code",
   "execution_count": null,
   "id": "1dea4f97-557c-4000-aa3b-c18e1485da0e",
   "metadata": {},
   "outputs": [],
   "source": [
    "Accessing Elements\n",
    "Indexing: Use square brackets [] with the index to access a specific element.\n",
    "Python\n",
    "my_list = [10, 20, 30, 40]\n",
    "print(my_list[0]) \n",
    "# Output: 10 (first element)\n",
    "print(my_list[2])  \n",
    "# Output: 30 (third element)"
   ]
  },
  {
   "cell_type": "raw",
   "id": "3c9f484a-67b3-4021-98a8-71d8f87e9389",
   "metadata": {},
   "source": [
    "Negative indexing: Access elements from the end of the list."
   ]
  },
  {
   "cell_type": "code",
   "execution_count": null,
   "id": "c6caa5a0-2cb5-491a-b8ac-c3bc30094ec6",
   "metadata": {},
   "outputs": [],
   "source": [
    "python\n",
    "print(my_list[-1])  \n",
    "# Output: 40 (last element)\n",
    "print(my_list[-3])  \n",
    "# Output: 20 (third element from the end)"
   ]
  },
  {
   "cell_type": "raw",
   "id": "eae3947e-23c4-4c82-8e76-7ec442b88c16",
   "metadata": {},
   "source": [
    "Slicing: Extract a range of elements"
   ]
  },
  {
   "cell_type": "code",
   "execution_count": null,
   "id": "b90d04b5-239e-47b3-994b-0c4dcb8029d9",
   "metadata": {},
   "outputs": [],
   "source": [
    "Python\n",
    "print(my_list[1:3])  \n",
    "# Output: [20, 30] (elements from index 1 to 2)"
   ]
  },
  {
   "cell_type": "code",
   "execution_count": null,
   "id": "a4b5c074-cc81-46d4-8344-69e2909fb4d5",
   "metadata": {},
   "outputs": [],
   "source": [
    "Modifying Elements\n",
    "\n",
    "Direct assignment: Assign a new value to a specific index.\n",
    "Python\n",
    "my_list[1] = 50\n",
    "print(my_list) \n",
    "# Output: [10, 50, 30, 40]"
   ]
  },
  {
   "cell_type": "code",
   "execution_count": null,
   "id": "9b938604-4fe7-4e9e-846a-2eb6587b0b82",
   "metadata": {},
   "outputs": [],
   "source": [
    "Slicing assignment: Replace a range of elements.\n",
    "\n",
    "Python\n",
    "my_list[2:4] = [60, 70]\n",
    "print(my_list)  \n",
    "# Output: [10, 50, 60, 70]"
   ]
  },
  {
   "cell_type": "code",
   "execution_count": null,
   "id": "4ceb31e2-8a89-493c-a1ce-b7f6095df88b",
   "metadata": {},
   "outputs": [],
   "source": [
    "Deleting Elements\n",
    "\n",
    "del keyword: Remove an element by its index.\n",
    "Python\n",
    "del my_list[0]\n",
    "print(my_list) \n",
    "# Output: [50, 60, 70]"
   ]
  },
  {
   "cell_type": "code",
   "execution_count": null,
   "id": "addba5a1-06cc-4172-a8ec-dcf49713f845",
   "metadata": {},
   "outputs": [],
   "source": [
    "pop() method: Remove an element and return its value.\n",
    "\n",
    "Python\n",
    "removed_value = my_list.pop(1)\n",
    "print(my_list)  \n",
    "# Output: [50, 70]\n",
    "print(removed_value) \n",
    "# Output: 60"
   ]
  },
  {
   "cell_type": "code",
   "execution_count": null,
   "id": "d4187fa8-b2fc-4ea7-9977-929f6ae3699a",
   "metadata": {},
   "outputs": [],
   "source": [
    "remove() method: Remove the first occurrence of a specific value.\n",
    "\n",
    "Python\n",
    "my_list.append(70)\n",
    "my_list.remove(70)\n",
    "print(my_list)  \n",
    "# Output: [50]"
   ]
  },
  {
   "cell_type": "raw",
   "id": "d203ffe5-8cee-4865-a8d3-83575090048a",
   "metadata": {},
   "source": [
    "Ques 4:- Compare and contrast tuples and list with examples."
   ]
  },
  {
   "cell_type": "raw",
   "id": "26ba9613-f30f-4f11-a157-01e8ec1bfc51",
   "metadata": {},
   "source": [
    "Answers:- Tuples and Lists.\n",
    "Both tuples and lists are used to store collections of elements in Python, but they have distinct characteristics and use cases.\n",
    "\n",
    "Tuples\n",
    "-Immutable: Once created, tuples cannot be modified.\n",
    "-Enclosed in parentheses: They are defined using parentheses ().\n",
    " Used for:\n",
    "          Representing immutable data structures (e.g., coordinates, dates)\n",
    "          Creating read-only collections"
   ]
  },
  {
   "cell_type": "code",
   "execution_count": null,
   "id": "9350bd58-454d-44d7-ab8b-b1a85e757c9f",
   "metadata": {},
   "outputs": [],
   "source": [
    "Example:\n",
    "\n",
    "Python\n",
    "my_tuple = (1, 2, 3, \"hello\")"
   ]
  },
  {
   "cell_type": "raw",
   "id": "c3b2d6ef-0225-4ff3-a129-e4a92a590480",
   "metadata": {},
   "source": [
    "Lists\n",
    "-Mutable: Elements can be added, removed, or modified.\n",
    "-Enclosed in square brackets: They are defined using square brackets [].\n",
    "Used for:\n",
    "        Storing collections that need to be modified dynamically\n",
    "        Creating flexible data structures"
   ]
  },
  {
   "cell_type": "code",
   "execution_count": null,
   "id": "03f8fd21-1acb-4f10-8252-4ef10d387146",
   "metadata": {},
   "outputs": [],
   "source": [
    "Example:\n",
    "\n",
    "Python\n",
    "my_list = [10, 20, 30, \"world\"]"
   ]
  },
  {
   "cell_type": "raw",
   "id": "c8bf02b9-2906-4096-982f-bd30f650575c",
   "metadata": {},
   "source": [
    "In summary:\n",
    "\n",
    "Tuples are suitable for representing data that should not be changed, such as coordinates or configuration settings.\n",
    "Lists are more flexible and can be used to store and manipulate collections of data that may need to be modified.\n",
    "The choice between tuples and lists depends on the specific requirements of your application."
   ]
  },
  {
   "cell_type": "raw",
   "id": "128e4c7d-757c-48aa-a3c8-0d0b2ea62d42",
   "metadata": {},
   "source": [
    "Ques 5:-Describe the key features of sets and provide examples of their uses."
   ]
  },
  {
   "cell_type": "raw",
   "id": "e76f64c2-f9b0-4229-9200-24a2618d89be",
   "metadata": {},
   "source": [
    "Answer- A set is an unordered collection of unique elements in Pyhton. Sets are particularly useful when you need to store distinct items and perform \n",
    "operations like union, inserection, and difference. Here are some key features of set."
   ]
  },
  {
   "cell_type": "raw",
   "id": "2fea79fa-aa74-4d42-aaf9-04bd35b280f6",
   "metadata": {},
   "source": [
    "Examples of Set Usage in Python:\n"
   ]
  },
  {
   "cell_type": "code",
   "execution_count": null,
   "id": "4df439ba-70a9-4a2d-a41b-93c92e63fcee",
   "metadata": {},
   "outputs": [],
   "source": [
    "1 Creating a set:\n",
    "\n",
    "Python\n",
    "my_set = {1, 2, 3, 4}\n",
    "empty_set = set()"
   ]
  },
  {
   "cell_type": "code",
   "execution_count": null,
   "id": "198e7fc4-145b-4d17-b1df-d8ba5253286c",
   "metadata": {},
   "outputs": [],
   "source": [
    "2 Adding elements:\n",
    "\n",
    "Python\n",
    "my_set.add(5)"
   ]
  },
  {
   "cell_type": "code",
   "execution_count": null,
   "id": "1c32e0a0-a46d-45ce-9d83-9ade07cd8d96",
   "metadata": {},
   "outputs": [],
   "source": [
    "3 Removing elements:\n",
    "\n",
    "Python\n",
    "my_set.remove(3)  # Raises KeyError if element is not present\n",
    "my_set.discard(6)  # Does not raise an error if element is not present"
   ]
  },
  {
   "cell_type": "code",
   "execution_count": null,
   "id": "b03e0a63-9712-4444-95ed-5a9646999d34",
   "metadata": {},
   "outputs": [],
   "source": [
    "4 Membership testing:\n",
    "\n",
    "Python\n",
    "if 2 in my_set:\n",
    "    print(\"2 is in the set\")"
   ]
  },
  {
   "cell_type": "code",
   "execution_count": null,
   "id": "2a427b26-754a-4bb5-bd77-1f6adad1cb67",
   "metadata": {},
   "outputs": [],
   "source": [
    "5 Set operations:\n",
    "\n",
    "Python\n",
    "set1 = {1, 2, 3}\n",
    "set2 = {2, 3, 4}\n",
    "\n",
    "# Union: Contains all elements from both sets\n",
    "union_set = set1 | set2\n",
    "\n",
    "# Intersection: Contains elements common to both sets\n",
    "intersection_set = set1 & set2\n",
    "\n",
    "# Difference: Contains elements in set1 but not in set2\n",
    "difference_set = set1 - set2\n",
    "\n",
    "# Symmetric difference: Contains elements in either set1 or set2, but not both\n",
    "symmetric_difference_set = set1 ^ set2"
   ]
  },
  {
   "cell_type": "raw",
   "id": "f6348c82-adc8-4499-90e3-c9fe5493d86d",
   "metadata": {},
   "source": [
    "Ques 7:- Describe how to add,modify and delete items in a dictionary with examples."
   ]
  },
  {
   "cell_type": "raw",
   "id": "6ca8e817-7a36-44f0-8023-55ed38af2bcc",
   "metadata": {},
   "source": [
    "Answers-A Python dictionary is an unordered collection of key-value pairs. Each key must be unique, while the values can be\n",
    "of any data type. To add, modify, or delete items in a dictionary,you use the following methods:"
   ]
  },
  {
   "cell_type": "raw",
   "id": "c8bef386-1c13-4daa-b93d-0c823f6c07c6",
   "metadata": {},
   "source": [
    ">Adding Items:\n",
    "Direct assignment: Assign a value to a new key.\n",
    "Using the update() method: Update the dictionary with another dictionary or iterable of key-value pairs."
   ]
  },
  {
   "cell_type": "code",
   "execution_count": null,
   "id": "7e19fc9b-ae8a-4efa-ade7-61dd60283ebd",
   "metadata": {},
   "outputs": [],
   "source": [
    "Example- \n",
    "my_dict = {'name': 'Alice', 'age': 30}\n",
    "\n",
    "# Adding a new key-value pair\n",
    "my_dict['city'] = 'New York'\n",
    "\n",
    "# Using update()\n",
    "my_dict.update({'country': 'USA', 'occupation': 'Engineer'})\n",
    "\n",
    "print(my_dict)"
   ]
  },
  {
   "cell_type": "raw",
   "id": "4f5dfad8-fc7e-4910-99b9-a9ad34390c46",
   "metadata": {},
   "source": [
    ">Modifying Items:\n",
    "Direct assignment: Assign a new value to an existing key."
   ]
  },
  {
   "cell_type": "code",
   "execution_count": null,
   "id": "9aeda27b-ec4e-4d0f-8590-96f351989bd4",
   "metadata": {},
   "outputs": [],
   "source": [
    "Example: \n",
    "\n",
    "my_dict['age'] = 31\n",
    "print(my_dict)"
   ]
  },
  {
   "cell_type": "raw",
   "id": "4209066f-cfa4-4376-ac74-b1c057f697df",
   "metadata": {},
   "source": [
    "Deleting Items:\n",
    "Using the del keyword: Delete a key-value pair by its key.\n",
    "Using the pop() method: Remove a key-value pair and return its value.\n",
    "Using the clear() method: Remove all items from the dictionary."
   ]
  },
  {
   "cell_type": "code",
   "execution_count": null,
   "id": "71eb3bad-862e-4c0b-b057-ec1081a651c0",
   "metadata": {},
   "outputs": [],
   "source": [
    "Example:\n",
    "\n",
    "del my_dict['city']\n",
    "\n",
    "# Using pop()\n",
    "occupation = my_dict.pop('occupation')\n",
    "print(occupation)\n",
    "\n",
    "# Using clear()\n",
    "my_dict.clear()\n",
    "print(my_dict)"
   ]
  },
  {
   "cell_type": "raw",
   "id": "64bb4ad7-7be5-4d89-ad7f-9e8171ae3588",
   "metadata": {},
   "source": [
    "Ques 8:- Discuss the importance of dictionary keys being immutable and provide example."
   ]
  },
  {
   "cell_type": "raw",
   "id": "fac03562-f868-45c1-a996-e04f8eae18da",
   "metadata": {},
   "source": [
    "Answers-Importance of Immutable Dictionary Keys\n",
    "\n",
    "In Python, dictionary keys must be immutable objects. This means that the value of the key cannot be changed after it is created.\n",
    "It is crucial for the efficient and reliable operation of dictionaries."
   ]
  },
  {
   "cell_type": "raw",
   "id": "833c2ee9-0df6-40a7-a13c-5fd28db0854d",
   "metadata": {},
   "source": [
    "Why Immutable Keys are important ?\n",
    "\n",
    "1 Hashing: Dictionaries use hashing to store and retrieve key-value pairs efficiently. The hash value of a key is used to determine its location within the dictionary. If keys were mutable, their hash values could change over time, leading to unpredictable behavior and potential data corruption.\n",
    "\n",
    "2 Comparison: Dictionaries use key comparisons to find the correct entry. If keys were mutable, comparing two keys that were originally equal but later modified could lead to incorrect results.\n",
    "\n",
    "3 Consistency: Immutable keys ensure that the dictionary's behavior remains consistent and predictable. This is essential for writing reliable and maintainable code. "
   ]
  },
  {
   "cell_type": "raw",
   "id": "3af2a84d-7f8c-486e-aa1b-dc1f851d2eab",
   "metadata": {},
   "source": [
    "Example of immutable objects\n",
    "\n",
    "Number:- Integer, float and complex numbers are immutable\n",
    "\n",
    "Strings:- String are immutable sequences of characters.\n",
    "\n",
    "Tuples:- Tuples are immutabke sequence of element.\n",
    "\n",
    "Frozen sets:- Frozen sets are immutabke sets"
   ]
  },
  {
   "cell_type": "code",
   "execution_count": null,
   "id": "1e497208-faf0-4425-b9a2-37d47010752f",
   "metadata": {},
   "outputs": [],
   "source": [
    "Example:- dict1 = {1: 'apple', (2,3): 'banana', 'mango': 4}\n",
    "dict1[1] = 'grape' # This will work bcz numers and tuples are immutable\n",
    "\n",
    "dict1[[1,2]] = 'pear'  # This will raise an error bcz list are mutable\n",
    "     \n",
    "{1: 'grape', (2, 3): 'banana', 'mango': 4}"
   ]
  }
 ],
 "metadata": {
  "kernelspec": {
   "display_name": "Python 3 (ipykernel)",
   "language": "python",
   "name": "python3"
  },
  "language_info": {
   "codemirror_mode": {
    "name": "ipython",
    "version": 3
   },
   "file_extension": ".py",
   "mimetype": "text/x-python",
   "name": "python",
   "nbconvert_exporter": "python",
   "pygments_lexer": "ipython3",
   "version": "3.10.8"
  }
 },
 "nbformat": 4,
 "nbformat_minor": 5
}
